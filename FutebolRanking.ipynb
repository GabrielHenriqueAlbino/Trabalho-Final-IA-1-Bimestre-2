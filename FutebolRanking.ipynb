{
  "nbformat": 4,
  "nbformat_minor": 0,
  "metadata": {
    "colab": {
      "name": "FutebolRanking.ipynb",
      "provenance": [],
      "mount_file_id": "1uv2TWTlFJc6iZPxrcZmtRQtyiYzz7Sgi",
      "authorship_tag": "ABX9TyPrPG5e6Ss+XeZyJi0XwhGJ",
      "include_colab_link": true
    },
    "kernelspec": {
      "name": "python3",
      "display_name": "Python 3"
    },
    "language_info": {
      "name": "python"
    }
  },
  "cells": [
    {
      "cell_type": "markdown",
      "metadata": {
        "id": "view-in-github",
        "colab_type": "text"
      },
      "source": [
        "<a href=\"https://colab.research.google.com/github/GabrielHenriqueAlbino/Trabalho-Final-IA-1-Bimestre-2/blob/main/FutebolRanking.ipynb\" target=\"_parent\"><img src=\"https://colab.research.google.com/assets/colab-badge.svg\" alt=\"Open In Colab\"/></a>"
      ]
    },
    {
      "cell_type": "code",
      "execution_count": null,
      "metadata": {
        "id": "m2bynrdBONGH"
      },
      "outputs": [],
      "source": [
        "import numpy as np\n",
        "import pandas as pd\n",
        "import matplotlib.pyplot as plt\n",
        "import warnings\n",
        "warnings.filterwarnings('ignore')\n",
        "\n"
      ]
    },
    {
      "cell_type": "code",
      "source": [
        "df = pd.read_csv(\"/content/drive/MyDrive/Dados/Soccer_Football Clubs Ranking.csv\")\n"
      ],
      "metadata": {
        "id": "sx9EsmhiOiFK"
      },
      "execution_count": null,
      "outputs": []
    },
    {
      "cell_type": "code",
      "source": [
        "df.head(5)"
      ],
      "metadata": {
        "id": "0nnCYTUKL7OW"
      },
      "execution_count": null,
      "outputs": []
    },
    {
      "cell_type": "code",
      "source": [
        "df.tail(5)"
      ],
      "metadata": {
        "id": "bC31qOzFMiis"
      },
      "execution_count": null,
      "outputs": []
    },
    {
      "cell_type": "code",
      "source": [
        "df[df.country == 'Brazil']"
      ],
      "metadata": {
        "id": "OLd5wf5ip2fb"
      },
      "execution_count": null,
      "outputs": []
    },
    {
      "cell_type": "code",
      "source": [
        "df[df.country == 'England']"
      ],
      "metadata": {
        "id": "1xIY5ulVqMIN"
      },
      "execution_count": null,
      "outputs": []
    },
    {
      "cell_type": "code",
      "source": [
        "top_ten_clubs = df[['club name ','ranking', 'point score']][df.ranking <20]\n",
        "top_ten_clubs.sort_values('ranking')"
      ],
      "metadata": {
        "id": "Xu70qGFhqiaS"
      },
      "execution_count": null,
      "outputs": []
    },
    {
      "cell_type": "code",
      "source": [
        "df.describe().round(2)"
      ],
      "metadata": {
        "id": "TjZptv8wMpTM"
      },
      "execution_count": null,
      "outputs": []
    },
    {
      "cell_type": "code",
      "source": [
        "print(f'Tamanho do Dataframe: {df.shape[0]} linhas e {df.shape[1]} colunas')"
      ],
      "metadata": {
        "id": "AuPRvmdYM3RD"
      },
      "execution_count": null,
      "outputs": []
    },
    {
      "cell_type": "code",
      "source": [
        "df.info() "
      ],
      "metadata": {
        "id": "eHVKIEe-NAir"
      },
      "execution_count": null,
      "outputs": []
    },
    {
      "cell_type": "code",
      "source": [
        "print(f'Dataset com valores em branco: {df.shape[0]}')\n",
        "print(f'Dataset sem valores em branco: {df.dropna().shape[0]}')"
      ],
      "metadata": {
        "id": "ud_L_qJfNdnl"
      },
      "execution_count": null,
      "outputs": []
    },
    {
      "cell_type": "code",
      "source": [
        "df = df.dropna()"
      ],
      "metadata": {
        "id": "C5g08cyjNlcr"
      },
      "execution_count": null,
      "outputs": []
    },
    {
      "cell_type": "code",
      "source": [
        "print ('Total de Times:', df['country'].shape[0])\n",
        "print ('Total de Times Brazil: ', df[df['country'] =='Brazil'].shape[0])\n",
        "print ('Total de Times Ingleses: ', df[df['country'] =='England'].shape[0])\n"
      ],
      "metadata": {
        "id": "I_jL1WpZRI4q"
      },
      "execution_count": null,
      "outputs": []
    },
    {
      "cell_type": "code",
      "source": [
        "df.head(2)"
      ],
      "metadata": {
        "id": "Ekcn8JyOS_aR"
      },
      "execution_count": null,
      "outputs": []
    },
    {
      "cell_type": "code",
      "source": [
        "y = df['country'].values \n",
        "y[:10]"
      ],
      "metadata": {
        "id": "gJV7GxU5T0r1"
      },
      "execution_count": null,
      "outputs": []
    },
    {
      "cell_type": "code",
      "source": [
        "X = df[['ranking', 'point score', '1 year change','previous point scored']].values\n",
        "X[:5]"
      ],
      "metadata": {
        "id": "ZIVQZWNeTe2x"
      },
      "execution_count": null,
      "outputs": []
    },
    {
      "cell_type": "code",
      "source": [
        "from sklearn.model_selection import train_test_split"
      ],
      "metadata": {
        "id": "OXmEXaKzZGKl"
      },
      "execution_count": null,
      "outputs": []
    },
    {
      "cell_type": "code",
      "source": [
        "X_train, X_test, y_train, y_test = train_test_split(X, y, test_size=0.3, random_state=42)"
      ],
      "metadata": {
        "id": "jJYmW-7NZKds"
      },
      "execution_count": null,
      "outputs": []
    },
    {
      "cell_type": "code",
      "source": [
        "from sklearn.tree import DecisionTreeClassifier, export_text\n",
        "from sklearn import tree"
      ],
      "metadata": {
        "id": "kLLKW55oZOUi"
      },
      "execution_count": null,
      "outputs": []
    },
    {
      "cell_type": "code",
      "source": [
        "modelo = DecisionTreeClassifier(criterion='entropy', max_depth=5)"
      ],
      "metadata": {
        "id": "F8uuERFFZVMj"
      },
      "execution_count": null,
      "outputs": []
    },
    {
      "cell_type": "code",
      "source": [
        "modelo.get_params()"
      ],
      "metadata": {
        "id": "At8SYIz-ZaIb"
      },
      "execution_count": null,
      "outputs": []
    },
    {
      "cell_type": "code",
      "source": [
        "modelo.fit(X_train, y_train)"
      ],
      "metadata": {
        "colab": {
          "base_uri": "https://localhost:8080/"
        },
        "id": "9dFaU52kZh1p",
        "outputId": "14aa2d79-f41e-41c9-f8fa-ea43c4fe9312"
      },
      "execution_count": null,
      "outputs": [
        {
          "output_type": "execute_result",
          "data": {
            "text/plain": [
              "DecisionTreeClassifier(criterion='entropy', max_depth=5)"
            ]
          },
          "metadata": {},
          "execution_count": 300
        }
      ]
    },
    {
      "cell_type": "code",
      "source": [
        "import graphviz\n",
        "print (modelo.feature_importances_)\n",
        "nome_features = ['ranking', 'point score', '1 year change','previous point scored']\n",
        "nome_classes = modelo.classes_\n",
        "\n",
        "fig, ax = plt.subplots(figsize=(15, 15))\n",
        "tree.plot_tree(modelo,\n",
        "               feature_names=nome_features,\n",
        "               class_names=nome_classes,\n",
        "               filled=True,\n",
        "               max_depth=2,\n",
        "               fontsize=10)\n",
        "plt.show()"
      ],
      "metadata": {
        "id": "o6IGWyxuZuKj"
      },
      "execution_count": null,
      "outputs": []
    },
    {
      "cell_type": "code",
      "source": [
        "r = export_text(modelo, feature_names=nome_features)\n",
        "print(r)"
      ],
      "metadata": {
        "id": "Mz8Kn8PAl2TO"
      },
      "execution_count": null,
      "outputs": []
    },
    {
      "cell_type": "code",
      "source": [
        "y_preds = modelo.predict(X_test)"
      ],
      "metadata": {
        "id": "aHO57hacmgWg"
      },
      "execution_count": null,
      "outputs": []
    },
    {
      "cell_type": "code",
      "source": [
        "y_preds = modelo.predict(X_test)\n"
      ],
      "metadata": {
        "id": "zOHqgX3Bmkce"
      },
      "execution_count": null,
      "outputs": []
    },
    {
      "cell_type": "code",
      "source": [
        "X_test[:5]\n"
      ],
      "metadata": {
        "id": "EuAaU4apmoCc"
      },
      "execution_count": null,
      "outputs": []
    },
    {
      "cell_type": "code",
      "source": [
        "y_preds[:5]"
      ],
      "metadata": {
        "colab": {
          "base_uri": "https://localhost:8080/"
        },
        "id": "cZaYb94HmskN",
        "outputId": "11f89db5-1df9-4213-e190-16888f677ecc"
      },
      "execution_count": null,
      "outputs": [
        {
          "output_type": "execute_result",
          "data": {
            "text/plain": [
              "array(['Nigeria', 'Zimbabwe', 'Zimbabwe', 'Zimbabwe', 'Zimbabwe'],\n",
              "      dtype=object)"
            ]
          },
          "metadata": {},
          "execution_count": 306
        }
      ]
    },
    {
      "cell_type": "code",
      "source": [
        "importances = modelo.feature_importances_\n",
        "indices = np.argsort(importances)[::-1]\n",
        "print(\"Feature ranking:\")\n",
        "\n",
        "for f in range(X.shape[1]):\n",
        "    print(\"%d. feature %d (%f)\" % (f + 1, indices[f], importances[indices[f]]))\n",
        "f, ax = plt.subplots(figsize=(11, 9))\n",
        "plt.title(\"Feature ranking\", fontsize = 20)\n",
        "plt.bar(range(X.shape[1]), importances[indices],\n",
        "    color=\"b\", \n",
        "    align=\"center\")\n",
        "plt.xticks(range(X.shape[1]), indices)\n",
        "plt.xlim([-1, X.shape[1]])\n",
        "plt.ylabel(\"importance\", fontsize = 18)\n",
        "plt.xlabel(\"index of the feature\", fontsize = 18)\n",
        "plt.show()"
      ],
      "metadata": {
        "id": "coxTTv1Um2C8"
      },
      "execution_count": null,
      "outputs": []
    },
    {
      "cell_type": "code",
      "source": [
        "from sklearn.metrics import accuracy_score, classification_report\n",
        "print(\"ACURÁCIA DA ÁRVORE: \", accuracy_score(y_test, y_preds))\n"
      ],
      "metadata": {
        "colab": {
          "base_uri": "https://localhost:8080/"
        },
        "id": "p_87HDxFnO1U",
        "outputId": "62de9c1d-db87-4582-a1bc-7c1a1dff2af2"
      },
      "execution_count": null,
      "outputs": [
        {
          "output_type": "stream",
          "name": "stdout",
          "text": [
            "ACURÁCIA DA ÁRVORE:  0.027251184834123223\n"
          ]
        }
      ]
    },
    {
      "cell_type": "code",
      "source": [
        "print(classification_report(y_test, y_preds))"
      ],
      "metadata": {
        "id": "FL9Jye5RnYEu"
      },
      "execution_count": null,
      "outputs": []
    }
  ]
}